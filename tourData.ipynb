{
 "cells": [
  {
   "cell_type": "code",
   "execution_count": 2,
   "metadata": {},
   "outputs": [],
   "source": [
    "import requests \n",
    "import json\n",
    "import pandas as pd\n",
    "import pymongo "
   ]
  },
  {
   "cell_type": "code",
   "execution_count": 50,
   "metadata": {},
   "outputs": [
    {
     "name": "stdout",
     "output_type": "stream",
     "text": [
      "[{'selcity': 'New_York_City', 'top10_tour': ['Statue of Liberty tour with pedestal access and Ellis Island', 'New York Explorer Pass and Guidebook', 'New York CityPASS: Must-See Attractions', '9-11 Memorial and Museum tickets', 'One World Observatory standard ticket', 'Museum of Modern Art (MoMA) skip-the-line tickets', 'The New York Sightseeing Pass: 100+ attractions and tours', 'Big Apple helicopter tour', 'Tickets to the Lion King on Broadway', 'Super New York tour plus Statue of Liberty ferry ticket, special attraction admission and VIP add-on'], 'top10_bar': ['Balthazar', 'Upland', 'Peter Luger Steak House', 'Gramercy Tavern', 'Le Bernardin', 'The Lambs Club', 'Aquagrill', 'Dirt Candy', 'Keens Steakhouse', \"Gallagher's Steakhouse\"], 'top10_bar_location': [{'latitude': 40.7226578, 'longitude': -73.9981644}, {'latitude': 40.7418061, 'longitude': -73.9846404}, {'latitude': 40.7098661, 'longitude': -73.9625564}, {'latitude': 40.7383894, 'longitude': -73.988414}, {'latitude': 40.7612817, 'longitude': -73.9817677}, {'latitude': 40.756616, 'longitude': -73.9845926}, {'latitude': 40.7252575, 'longitude': -74.0038185}, {'latitude': 40.7179915, 'longitude': -73.9907343}, {'latitude': 40.7509339, 'longitude': -73.9862376}, {'latitude': 40.7628531, 'longitude': -73.9838317}]}, {'selcity': 'San_Francisco', 'top10_tour': ['Go San Francisco Card + Downloadable Guidebook', 'Muir Woods, Sausalito and Sonoma Wine Country tour', 'San Francisco CityPASS', 'California sunset cruise', 'Alcatraz tickets with San Francisco city bus tour', 'Alcatraz tickets with two-day hop-on hop-off San Francisco bus pass', 'Big Bus San Francisco hop-on hop-off tour', 'Muir Woods and Sausalito tour with Alcatraz tickets', 'San Francisco 2 day hop-on hop-off pass', 'Golden Gate Bridge GoCar tour'], 'top10_bar': ['Tadich Grill', 'Boulevard', \"John's Grill\", 'Zuni Café', \"Tony's Pizza Napoletana\", 'Fog City', 'Le Colonial SF', 'Liholiho Yacht Club', 'Quince', 'Big 4 Restaurant'], 'top10_bar_location': [{'latitude': 37.7934198, 'longitude': -122.399472}, {'latitude': 37.7932361, 'longitude': -122.3928913}, {'latitude': 37.7854639, 'longitude': -122.4071525}, {'latitude': 37.77360671745425, 'longitude': -122.42161499755558}, {'latitude': 37.8003332, 'longitude': -122.4090513}, {'latitude': 37.80347019183483, 'longitude': -122.4018635402653}, {'latitude': 37.78846688778009, 'longitude': -122.41240555603905}, {'latitude': 37.7882259, 'longitude': -122.4146212}, {'latitude': 37.7974582, 'longitude': -122.4034024}, {'latitude': 37.7914927, 'longitude': -122.4122583}]}, {'selcity': 'Boston', 'top10_tour': ['Go Boston Card + Downloadable Guidebook', 'Boston CityPASS', 'Boston Explorer Pass and guidebook', \"Pilgrim's Path and Plimouth Plantation tour\", 'Harvard Square food tour', 'Old Town Trolley tours of Boston', 'Boston Movie Mile walking tour', 'Davis Square food tour', 'Wrentham Village Premium Outlets', 'Total experience Boston day tour'], 'top10_bar': ['Granary Tavern', 'Ocean Prime', 'Red Lantern Boston', '75 on Liberty Wharf', 'Carrie Nation Cocktail Club', 'Eastern Standard Kitchen & Drinks', 'Myers & Chang', 'Island Creek Oyster Bar', 'Alden & Harlow', 'Row 34'], 'top10_bar_location': [{'latitude': 42.358765993111184, 'longitude': -71.0524954168745}, {'latitude': 42.35121985162621, 'longitude': -71.04348767362461}, {'latitude': 42.348427364560706, 'longitude': -71.07340636713337}, {'latitude': 42.3491313, 'longitude': -71.0388884}, {'latitude': 42.35842940895951, 'longitude': -71.0616118138525}, {'latitude': 42.3485917, 'longitude': -71.0961202}, {'latitude': 42.34379736505372, 'longitude': -71.06622498423437}, {'latitude': 42.3486591, 'longitude': -71.0950745}, {'latitude': 42.3735585, 'longitude': -71.1213903}, {'latitude': 42.3495874, 'longitude': -71.0474916}]}, {'selcity': 'Denver', 'top10_tour': ['Denver mountain parks tour', 'Mountain parks and Denver city tour combo', 'Denver highlights tour'], 'top10_bar': ['Ace Eat Serve', 'TAG', 'City O City', 'Euclid Hall', 'Linger', 'The Kitchen Bistro', 'Acorn', 'Mercantile dining & provision', 'rioja', 'Osteria Marco'], 'top10_bar_location': [{'latitude': 39.7434546, 'longitude': -104.9808762}, {'latitude': 39.7480181, 'longitude': -104.9991905}, {'latitude': 39.7366895, 'longitude': -104.9846706}, {'latitude': 39.747718, 'longitude': -105.0001034}, {'latitude': 39.7594966, 'longitude': -105.0115029}, {'latitude': 39.751013, 'longitude': -105.0000508}, {'latitude': 39.768623, 'longitude': -104.9798803}, {'latitude': 39.753599, 'longitude': -104.9997073}, {'latitude': 39.7478719, 'longitude': -104.999377}, {'latitude': 39.7481019, 'longitude': -104.9990759}]}, {'selcity': 'New_Orleans', 'top10_tour': ['Swamp tour and Destrehan Plantation tour', 'Louisiana plantation tour: Oak Alley and Laura', 'New Orleans original cocktail walking tour', 'New Orleans Pass: free admission to sights and attractions', 'St. Louis Cemetery #1 Traditions Tour', 'Plantation brunch and swamp combo tour', 'Hurricane Katrina bus tour', 'New Orleans cocktail history tour', 'Whitney Plantation tour', 'Jazz and brunch cruise on the Mississippi'], 'top10_bar': [\"Mr. B's Bistro\", \"Galatoire's\", 'Cafe Amelie', \"Commander's Palace\", 'Napoleon House', 'Borgne', \"Antoine's\", 'Carmo', \"Clancy's\", 'Domenica'], 'top10_bar_location': [{'latitude': 29.9543264, 'longitude': -90.0682024}, {'latitude': 29.9548973, 'longitude': -90.0691072}, {'latitude': 29.9597731, 'longitude': -90.0629139}, {'latitude': 29.9289249, 'longitude': -90.0842142}, {'latitude': 29.9558596, 'longitude': -90.0650706}, {'latitude': 29.949440176695703, 'longitude': -90.07634235320798}, {'latitude': 29.9567166, 'longitude': -90.0664811}, {'latitude': 29.945623171556264, 'longitude': -90.06985993531252}, {'latitude': 29.918998618754898, 'longitude': -90.12517569461255}, {'latitude': 29.9539196, 'longitude': -90.0717295}]}, {'selcity': 'Philadelphia', 'top10_tour': ['Street food walking tour in Philadelphia', 'Markets, mosaics and magic - walking tour in Philadelphia', 'One Liberty Observation Deck: Philly From the Top tickets', 'Philadelphia Explorer Pass with downloadable guidebook', 'History in HD guided walking tour in Philadelphia', 'Philly On Tap: Pub Adventure in Philadelphia', 'Italian market immersion in Philadelphia', 'Italian Market Immersion: Philadelphia Food Tour', 'Philadelphia Sightseeing FLEX Pass', 'Philly On Tap - guided beer walking tour in Philadelphia'], 'top10_bar': ['Buddakan', 'Barclay Prime', 'Zahav', 'The Dandelion', 'Vedge', 'Farmicia Restaurant', 'Parc Restaurant', 'Continental Mid-town', 'The Continental Restaurant and Martini Bar', 'Jones Restaurant'], 'top10_bar_location': [{'latitude': 39.9488836, 'longitude': -75.1470298}, {'latitude': 39.94874, 'longitude': -75.17072}, {'latitude': 39.9463061, 'longitude': -75.1451873}, {'latitude': 39.95101507593082, 'longitude': -75.17074175311858}, {'latitude': 39.9479023, 'longitude': -75.1613868}, {'latitude': 39.9497063, 'longitude': -75.1456727}, {'latitude': 39.949089, 'longitude': -75.1707551}, {'latitude': 39.9518174, 'longitude': -75.1704471}, {'latitude': 39.9497479, 'longitude': -75.1436572}, {'latitude': 39.9493006, 'longitude': -75.1525508}]}]\n"
     ]
    }
   ],
   "source": [
    "accountName = '1UYFGLZI'\n",
    "apiToken = 'cnmrnujh5rfu9f2pp33q7z93iveaqvv1'\n",
    "\n",
    "cities = ['New_York_City', 'San_Francisco', 'Boston','Denver','New_Orleans','Philadelphia']\n",
    "\n",
    "citydata = []\n",
    "\n",
    "for city in cities:\n",
    "    \n",
    "    tour_url = f'https://www.triposo.com/api/20200405/tour.json?location_ids={city}&count=10'\\\n",
    "    '&fields=id,name,score,price,price_is_per_person,vendor,intro,tag_labels'\\\n",
    "    f'&order_by=-score&account={accountName}&token={apiToken}'\n",
    "    \n",
    "    content = requests.get(tour_url).text\n",
    "\n",
    "    content_json = json.loads(content)\n",
    "    tourData = content_json[\"results\"]\n",
    "\n",
    "    top10_tour = []\n",
    "    \n",
    "    for each in tourData:\n",
    "        tours= each[\"name\"]\n",
    "        top10_tour.append(tours)\n",
    "        \n",
    "    \n",
    "    alchol_url = f'https://www.triposo.com/api/20200405/poi.json?tag_labels=cuisine-Cocktail'\\\n",
    "    f'&location_id={city}&count=10&order_by=-score&fields=name,best_for,coordinates,score,id'\\\n",
    "    f'&account={accountName}&token={apiToken}'\n",
    "    \n",
    "    al_content = requests.get(alchol_url).text\n",
    "    \n",
    "    al_content_json = json.loads(al_content)\n",
    "    alcholData = al_content_json[\"results\"]\n",
    "\n",
    "    top10_bar = []\n",
    "    top10_bar_cord = []\n",
    "    \n",
    "    for bar in alcholData:\n",
    "        names = bar[\"name\"]\n",
    "        cords = bar[\"coordinates\"]\n",
    "        top10_bar.append(names)\n",
    "        top10_bar_cord.append(cords)\n",
    "    \n",
    "    citydata.append({\"selcity\":city, \"top10_tour\":top10_tour, \"top10_bar\":top10_bar, \"top10_bar_location\":top10_bar_cord})\n",
    "    \n",
    "    \n",
    "      \n",
    "print(citydata)"
   ]
  },
  {
   "cell_type": "code",
   "execution_count": 52,
   "metadata": {},
   "outputs": [
    {
     "ename": "TypeError",
     "evalue": "document must be an instance of dict, bson.son.SON, bson.raw_bson.RawBSONDocument, or a type that inherits from collections.MutableMapping",
     "output_type": "error",
     "traceback": [
      "\u001b[0;31m---------------------------------------------------------------------------\u001b[0m",
      "\u001b[0;31mTypeError\u001b[0m                                 Traceback (most recent call last)",
      "\u001b[0;32m<ipython-input-52-c1f6d8b01d05>\u001b[0m in \u001b[0;36m<module>\u001b[0;34m\u001b[0m\n\u001b[1;32m      7\u001b[0m \u001b[0mdb\u001b[0m \u001b[0;34m=\u001b[0m \u001b[0mclient\u001b[0m\u001b[0;34m.\u001b[0m\u001b[0mcityDB\u001b[0m\u001b[0;34m\u001b[0m\u001b[0;34m\u001b[0m\u001b[0m\n\u001b[1;32m      8\u001b[0m \u001b[0mdb\u001b[0m\u001b[0;34m.\u001b[0m\u001b[0mtourData\u001b[0m\u001b[0;34m.\u001b[0m\u001b[0mdrop\u001b[0m\u001b[0;34m(\u001b[0m\u001b[0;34m)\u001b[0m\u001b[0;34m\u001b[0m\u001b[0;34m\u001b[0m\u001b[0m\n\u001b[0;32m----> 9\u001b[0;31m \u001b[0mdb\u001b[0m\u001b[0;34m.\u001b[0m\u001b[0mtourData\u001b[0m\u001b[0;34m.\u001b[0m\u001b[0minsert_one\u001b[0m\u001b[0;34m(\u001b[0m\u001b[0mcitydata\u001b[0m\u001b[0;34m)\u001b[0m\u001b[0;34m\u001b[0m\u001b[0;34m\u001b[0m\u001b[0m\n\u001b[0m\u001b[1;32m     10\u001b[0m \u001b[0;34m\u001b[0m\u001b[0m\n\u001b[1;32m     11\u001b[0m \u001b[0mlist\u001b[0m\u001b[0;34m(\u001b[0m\u001b[0mdb\u001b[0m\u001b[0;34m.\u001b[0m\u001b[0mtourData\u001b[0m\u001b[0;34m.\u001b[0m\u001b[0mfind\u001b[0m\u001b[0;34m(\u001b[0m\u001b[0;34m)\u001b[0m\u001b[0;34m)\u001b[0m\u001b[0;34m\u001b[0m\u001b[0;34m\u001b[0m\u001b[0m\n",
      "\u001b[0;32m~/opt/anaconda3/envs/PythonData_new/lib/python3.6/site-packages/pymongo/collection.py\u001b[0m in \u001b[0;36minsert_one\u001b[0;34m(self, document, bypass_document_validation, session)\u001b[0m\n\u001b[1;32m    687\u001b[0m         \u001b[0;34m.\u001b[0m\u001b[0;34m.\u001b[0m \u001b[0mversionadded\u001b[0m\u001b[0;34m:\u001b[0m\u001b[0;34m:\u001b[0m \u001b[0;36m3.0\u001b[0m\u001b[0;34m\u001b[0m\u001b[0;34m\u001b[0m\u001b[0m\n\u001b[1;32m    688\u001b[0m         \"\"\"\n\u001b[0;32m--> 689\u001b[0;31m         \u001b[0mcommon\u001b[0m\u001b[0;34m.\u001b[0m\u001b[0mvalidate_is_document_type\u001b[0m\u001b[0;34m(\u001b[0m\u001b[0;34m\"document\"\u001b[0m\u001b[0;34m,\u001b[0m \u001b[0mdocument\u001b[0m\u001b[0;34m)\u001b[0m\u001b[0;34m\u001b[0m\u001b[0;34m\u001b[0m\u001b[0m\n\u001b[0m\u001b[1;32m    690\u001b[0m         \u001b[0;32mif\u001b[0m \u001b[0;32mnot\u001b[0m \u001b[0;34m(\u001b[0m\u001b[0misinstance\u001b[0m\u001b[0;34m(\u001b[0m\u001b[0mdocument\u001b[0m\u001b[0;34m,\u001b[0m \u001b[0mRawBSONDocument\u001b[0m\u001b[0;34m)\u001b[0m \u001b[0;32mor\u001b[0m \u001b[0;34m\"_id\"\u001b[0m \u001b[0;32min\u001b[0m \u001b[0mdocument\u001b[0m\u001b[0;34m)\u001b[0m\u001b[0;34m:\u001b[0m\u001b[0;34m\u001b[0m\u001b[0;34m\u001b[0m\u001b[0m\n\u001b[1;32m    691\u001b[0m             \u001b[0mdocument\u001b[0m\u001b[0;34m[\u001b[0m\u001b[0;34m\"_id\"\u001b[0m\u001b[0;34m]\u001b[0m \u001b[0;34m=\u001b[0m \u001b[0mObjectId\u001b[0m\u001b[0;34m(\u001b[0m\u001b[0;34m)\u001b[0m\u001b[0;34m\u001b[0m\u001b[0;34m\u001b[0m\u001b[0m\n",
      "\u001b[0;32m~/opt/anaconda3/envs/PythonData_new/lib/python3.6/site-packages/pymongo/common.py\u001b[0m in \u001b[0;36mvalidate_is_document_type\u001b[0;34m(option, value)\u001b[0m\n\u001b[1;32m    481\u001b[0m                         \u001b[0;34m\"bson.raw_bson.RawBSONDocument, or \"\u001b[0m\u001b[0;34m\u001b[0m\u001b[0;34m\u001b[0m\u001b[0m\n\u001b[1;32m    482\u001b[0m                         \u001b[0;34m\"a type that inherits from \"\u001b[0m\u001b[0;34m\u001b[0m\u001b[0;34m\u001b[0m\u001b[0m\n\u001b[0;32m--> 483\u001b[0;31m                         \"collections.MutableMapping\" % (option,))\n\u001b[0m\u001b[1;32m    484\u001b[0m \u001b[0;34m\u001b[0m\u001b[0m\n\u001b[1;32m    485\u001b[0m \u001b[0;34m\u001b[0m\u001b[0m\n",
      "\u001b[0;31mTypeError\u001b[0m: document must be an instance of dict, bson.son.SON, bson.raw_bson.RawBSONDocument, or a type that inherits from collections.MutableMapping"
     ]
    }
   ],
   "source": [
    "# The default port used by MongoDB is 27017\n",
    "# https://docs.mongodb.com/manual/reference/default-mongodb-port/\n",
    "conn = 'mongodb://localhost:27017'\n",
    "client = pymongo.MongoClient(conn)\n",
    "# Define the 'cityDB' database in Mongo\n",
    "\n",
    "db = client.cityDB\n",
    "db.tourData.drop()\n",
    "db.tourData.insert_one(citydata)\n",
    "\n",
    "list(db.tourData.find())\n"
   ]
  },
  {
   "cell_type": "code",
   "execution_count": 9,
   "metadata": {},
   "outputs": [],
   "source": []
  },
  {
   "cell_type": "code",
   "execution_count": 77,
   "metadata": {},
   "outputs": [],
   "source": [
    "from sqlalchemy import create_engine"
   ]
  },
  {
   "cell_type": "code",
   "execution_count": 78,
   "metadata": {},
   "outputs": [],
   "source": [
    "database_path = \"city_db\"\n",
    "engine = create_engine(f\"sqlite:///{database_path}\")\n",
    "conn = engine.connect()"
   ]
  },
  {
   "cell_type": "code",
   "execution_count": 87,
   "metadata": {},
   "outputs": [],
   "source": [
    "city_df.to_sql('tour_data', con=engine, if_exists='replace', index = False,)"
   ]
  },
  {
   "cell_type": "code",
   "execution_count": 88,
   "metadata": {},
   "outputs": [
    {
     "data": {
      "text/plain": [
       "'{\"New_York_City\":{\"0\":\"Statue of Liberty tour with pedestal access and Ellis Island\",\"1\":\"New York Explorer Pass and Guidebook\",\"2\":\"New York CityPASS: Must-See Attractions\",\"3\":\"9-11 Memorial and Museum tickets\",\"4\":\"One World Observatory standard ticket\",\"5\":\"Museum of Modern Art (MoMA) skip-the-line tickets\",\"6\":\"The New York Sightseeing Pass: 100+ attractions and tours\",\"7\":\"Big Apple helicopter tour\",\"8\":\"Tickets to the Lion King on Broadway\",\"9\":\"Super New York tour plus Statue of Liberty ferry ticket, special attraction admission and VIP add-on\"},\"San_Francisco\":{\"0\":\"Go San Francisco Card + Downloadable Guidebook\",\"1\":\"Muir Woods, Sausalito and Sonoma Wine Country tour\",\"2\":\"San Francisco CityPASS\",\"3\":\"California sunset cruise\",\"4\":\"Alcatraz tickets with San Francisco city bus tour\",\"5\":\"Alcatraz tickets with two-day hop-on hop-off San Francisco bus pass\",\"6\":\"Big Bus San Francisco hop-on hop-off tour\",\"7\":\"Muir Woods and Sausalito tour with Alcatraz tickets\",\"8\":\"San Francisco 2 day hop-on hop-off pass\",\"9\":\"Golden Gate Bridge GoCar tour\"},\"Boston\":{\"0\":\"Go Boston Card + Downloadable Guidebook\",\"1\":\"Boston CityPASS\",\"2\":\"Boston Explorer Pass and guidebook\",\"3\":\"Pilgrim\\'s Path and Plimouth Plantation tour\",\"4\":\"Harvard Square food tour\",\"5\":\"Old Town Trolley tours of Boston\",\"6\":\"Boston Movie Mile walking tour\",\"7\":\"Davis Square food tour\",\"8\":\"Wrentham Village Premium Outlets\",\"9\":\"Total experience Boston day tour\"},\"Denver\":{\"0\":\"Denver mountain parks tour\",\"1\":\"Mountain parks and Denver city tour combo\",\"2\":\"Denver highlights tour\",\"3\":null,\"4\":null,\"5\":null,\"6\":null,\"7\":null,\"8\":null,\"9\":null},\"New_Orleans\":{\"0\":\"Swamp tour and Destrehan Plantation tour\",\"1\":\"Louisiana plantation tour: Oak Alley and Laura\",\"2\":\"New Orleans original cocktail walking tour\",\"3\":\"New Orleans Pass: free admission to sights and attractions\",\"4\":\"St. Louis Cemetery #1 Traditions Tour\",\"5\":\"Plantation brunch and swamp combo tour\",\"6\":\"Hurricane Katrina bus tour\",\"7\":\"New Orleans cocktail history tour\",\"8\":\"Whitney Plantation tour\",\"9\":\"Jazz and brunch cruise on the Mississippi\"},\"Philadelphia\":{\"0\":\"Street food walking tour in Philadelphia\",\"1\":\"Markets, mosaics and magic - walking tour in Philadelphia\",\"2\":\"One Liberty Observation Deck: Philly From the Top tickets\",\"3\":\"Philadelphia Explorer Pass with downloadable guidebook\",\"4\":\"History in HD guided walking tour in Philadelphia\",\"5\":\"Philly On Tap: Pub Adventure in Philadelphia\",\"6\":\"Italian market immersion in Philadelphia\",\"7\":\"Italian Market Immersion: Philadelphia Food Tour\",\"8\":\"Philadelphia Sightseeing FLEX Pass\",\"9\":\"Philly On Tap - guided beer walking tour in Philadelphia\"}}'"
      ]
     },
     "execution_count": 88,
     "metadata": {},
     "output_type": "execute_result"
    }
   ],
   "source": [
    "df_tour = pd.read_sql(\"SELECT * FROM tour_data\",engine).to_json()\n",
    "df_tour"
   ]
  },
  {
   "cell_type": "code",
   "execution_count": null,
   "metadata": {},
   "outputs": [],
   "source": [
    "df_season = \n",
    "df_alchol = "
   ]
  },
  {
   "cell_type": "code",
   "execution_count": null,
   "metadata": {},
   "outputs": [],
   "source": []
  }
 ],
 "metadata": {
  "kernelspec": {
   "display_name": "Python 3.6.10 64-bit ('PythonData_new': conda)",
   "language": "python",
   "name": "python361064bitpythondatanewcondaaaf1a85c25ec4786b381ac9b70fd7af2"
  },
  "language_info": {
   "codemirror_mode": {
    "name": "ipython",
    "version": 3
   },
   "file_extension": ".py",
   "mimetype": "text/x-python",
   "name": "python",
   "nbconvert_exporter": "python",
   "pygments_lexer": "ipython3",
   "version": "3.6.10"
  }
 },
 "nbformat": 4,
 "nbformat_minor": 2
}
